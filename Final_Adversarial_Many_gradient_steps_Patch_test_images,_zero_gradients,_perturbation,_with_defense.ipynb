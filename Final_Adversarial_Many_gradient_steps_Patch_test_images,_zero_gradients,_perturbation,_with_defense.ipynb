{
  "nbformat": 4,
  "nbformat_minor": 0,
  "metadata": {
    "colab": {
      "name": "Final Adversarial - Many gradient steps - Patch test images, zero gradients, perturbation, with defense.ipynb",
      "provenance": [],
      "collapsed_sections": [],
      "include_colab_link": true
    },
    "kernelspec": {
      "display_name": "Python 3",
      "name": "python3"
    },
    "language_info": {
      "name": "python"
    }
  },
  "cells": [
    {
      "cell_type": "markdown",
      "metadata": {
        "id": "view-in-github",
        "colab_type": "text"
      },
      "source": [
        "<a href=\"https://colab.research.google.com/github/nkapoor11/machine-learning/blob/main/Final_Adversarial_Many_gradient_steps_Patch_test_images%2C_zero_gradients%2C_perturbation%2C_with_defense.ipynb\" target=\"_parent\"><img src=\"https://colab.research.google.com/assets/colab-badge.svg\" alt=\"Open In Colab\"/></a>"
      ]
    },
    {
      "cell_type": "code",
      "metadata": {
        "id": "L-uOxwBQUhhi"
      },
      "source": [
        "from __future__ import print_function\n",
        "import torch\n",
        "import torch.nn as nn\n",
        "import torch.nn.functional as F\n",
        "import torch.optim as optim\n",
        "from torchvision import datasets, transforms\n",
        "import numpy as np\n",
        "import matplotlib.pyplot as plt\n",
        "import PIL\n",
        "\n",
        "\n",
        "# NOTE: This is a hack to get around \"User-agent\" limitations when downloading MNIST datasets\n",
        "#       see, https://github.com/pytorch/vision/issues/3497 for more information\n",
        "from six.moves import urllib\n",
        "opener = urllib.request.build_opener()\n",
        "opener.addheaders = [('User-agent', 'Mozilla/5.0')]\n",
        "urllib.request.install_opener(opener)\n"
      ],
      "execution_count": null,
      "outputs": []
    },
    {
      "cell_type": "code",
      "metadata": {
        "id": "BhuM1UiUV7-E"
      },
      "source": [
        "from matplotlib import cm\n",
        "\n",
        "def CutoutAbs(img, v):  # [0, 60] => percentage: [0, 0.2]\n",
        "    # assert 0 <= v <= 20\n",
        "    if v < 0:\n",
        "        return img\n",
        "    #w, h = img.size\n",
        "    w = 28-v\n",
        "    h = 28-v\n",
        "    x0 = np.random.uniform(w)\n",
        "    y0 = np.random.uniform(h)\n",
        "\n",
        "    #print(type(img))\n",
        "    #print(np.shape(img))\n",
        "    #plt.imshow(img, cmap=\"gray\") # before patch is added\n",
        "\n",
        "\n",
        "  #  x0 = int(max(0, x0 - v / 2.))\n",
        "  #  y0 = int(max(0, y0 - v / 2.))\n",
        "    x1 = x0 + v #min(w, x0 + v)\n",
        "    y1 = y0 + v #min(h, y0 + v)\n",
        "    \n",
        "    for i in range(len(img)):\n",
        "      if (i >= x0 and i <= x1):\n",
        "        for j in range(len(img[i])):\n",
        "          if (j >= y0 and j <= y1):\n",
        "            img[i][j] = 0.5 #128 #(128, 128, 128)    \n",
        "\n",
        "    #plt.imshow(img, cmap=\"gray\") # after patch is added\n",
        "    return img, x0, x1, y0, y1"
      ],
      "execution_count": null,
      "outputs": []
    },
    {
      "cell_type": "code",
      "metadata": {
        "id": "5FeGA4pTXLXx"
      },
      "source": [
        "#pretrained_model = \"/content/lenet_mnist_model.pth\"\n",
        "use_cuda=True"
      ],
      "execution_count": null,
      "outputs": []
    },
    {
      "cell_type": "code",
      "metadata": {
        "colab": {
          "base_uri": "https://localhost:8080/"
        },
        "id": "xsD60owM6H4H",
        "outputId": "5fa7458f-60a4-4450-e469-7eff73a211b1"
      },
      "source": [
        "print(\"CUDA Available: \",torch.cuda.is_available())\n",
        "device = torch.device(\"cuda\" if (use_cuda and torch.cuda.is_available()) else \"cpu\")"
      ],
      "execution_count": null,
      "outputs": [
        {
          "output_type": "stream",
          "text": [
            "CUDA Available:  False\n"
          ],
          "name": "stdout"
        }
      ]
    },
    {
      "cell_type": "code",
      "metadata": {
        "id": "PipjNH9WWhvI",
        "colab": {
          "base_uri": "https://localhost:8080/"
        },
        "outputId": "f71684ca-5535-4d78-c23a-7795c22b0ddd"
      },
      "source": [
        "# LeNet Model definition\n",
        "class Net(nn.Module):\n",
        "    def __init__(self):\n",
        "        super(Net, self).__init__()\n",
        "        self.conv1 = nn.Conv2d(1, 10, kernel_size=5)\n",
        "        self.conv2 = nn.Conv2d(10, 20, kernel_size=5)\n",
        "        self.conv2_drop = nn.Dropout2d()\n",
        "        self.fc1 = nn.Linear(320, 50)\n",
        "        self.fc2 = nn.Linear(50, 10) #(_, 2) means 2 classes (has patch, or no patch).\n",
        "\n",
        "    def forward(self, x):\n",
        "        x = F.relu(F.max_pool2d(self.conv1(x), 2))\n",
        "        x = F.relu(F.max_pool2d(self.conv2_drop(self.conv2(x)), 2))\n",
        "        x = x.view(-1, 320)\n",
        "        x = F.relu(self.fc1(x))\n",
        "        x = F.dropout(x, training=self.training)\n",
        "        x = self.fc2(x)\n",
        "        return F.log_softmax(x, dim=1)\n",
        "\n",
        "# MNIST Test dataset and dataloader declaration\n",
        "#dataset = datasets.MNIST('../data', train=True, download=True, transform=transforms.Compose([\n",
        "#            transforms.ToTensor(),\n",
        "#            ]))\n",
        "\n",
        "#print(type(dataset))\n",
        "\n",
        "test_loader = torch.utils.data.DataLoader(\n",
        "    datasets.MNIST('../data', train=False, download=True, transform=transforms.Compose([\n",
        "            transforms.ToTensor(),\n",
        "            ])),\n",
        "        batch_size=1, shuffle=True) # 10,000\n",
        "train_loader = torch.utils.data.DataLoader(\n",
        "    datasets.MNIST('../data', train=True, download=True, transform=transforms.Compose([\n",
        "            transforms.ToTensor(),\n",
        "            ])),\n",
        "        batch_size=1, shuffle=True) # 60,000 images\n",
        "\n",
        "allmnist = [] # original 10,000 images w/o patch\n",
        "allmnistpatch = [] # all 10,000 images w/ patches\n",
        "\n",
        "counter = 0\n",
        "x0_list = []\n",
        "x1_list = []\n",
        "y0_list = []\n",
        "y1_list = []\n",
        "\n",
        "\n",
        "for data, labels in test_loader:\n",
        "  \n",
        "  if (counter == 1):\n",
        "    break\n",
        "  counter+=1\n",
        "  img = data.squeeze().numpy() # only 1 image b/c batch_size = 1.\n",
        "  allmnist.append(img)\n",
        "  #print(img.size)\n",
        "\n",
        "  imgCopy = img.copy()\n",
        "  img_patch, x0, x1, y0, y1 = CutoutAbs(imgCopy, 5)\n",
        "  x0_list.append(x0)\n",
        "  x1_list.append(x1)\n",
        "  y0_list.append(y0)\n",
        "  y1_list.append(y1)\n",
        "\n",
        "  allmnistpatch.append(img_patch)\n",
        "\n",
        "\n",
        "  #print('printing original img')\n",
        "  #plt.imshow(img, cmap=\"gray\") \n",
        "\n",
        "  #for i in range(len(img)):\n",
        "    #print(img[i])\n",
        "  \n",
        "  if(counter % 10000 == 0):\n",
        "    plt.imshow(img_patch, cmap=\"gray\")\n",
        "    #break\n",
        "print(\"length before train added: {}, {}\".format(len(allmnist), len(allmnistpatch)))\n",
        "counter = 0\n",
        "print('done')\n",
        "print(type(allmnist))\n",
        "#allmnist = allmnist.numpy()\n",
        "print(np.shape(allmnist))\n",
        "\n",
        "\n",
        "\n",
        "labels = []\n",
        "labelspatch = []\n",
        "for i in range(len(allmnist)):\n",
        "  labels.append(0)\n",
        "  labelspatch.append(1)\n",
        "print(len(labels))\n",
        "print(len(labelspatch))\n",
        "\n",
        "\n"
      ],
      "execution_count": null,
      "outputs": [
        {
          "output_type": "stream",
          "text": [
            "length before train added: 1, 1\n",
            "done\n",
            "<class 'list'>\n",
            "(1, 28, 28)\n",
            "1\n",
            "1\n"
          ],
          "name": "stdout"
        },
        {
          "output_type": "stream",
          "text": [
            "/usr/local/lib/python3.7/dist-packages/torchvision/datasets/mnist.py:498: UserWarning: The given NumPy array is not writeable, and PyTorch does not support non-writeable tensors. This means you can write to the underlying (supposedly non-writeable) NumPy array using the tensor. You may want to copy the array to protect its data or make it writeable before converting it to a tensor. This type of warning will be suppressed for the rest of this program. (Triggered internally at  /pytorch/torch/csrc/utils/tensor_numpy.cpp:180.)\n",
            "  return torch.from_numpy(parsed.astype(m[2], copy=False)).view(*s)\n"
          ],
          "name": "stderr"
        }
      ]
    },
    {
      "cell_type": "code",
      "metadata": {
        "id": "vUu_QZOU2M6W",
        "colab": {
          "base_uri": "https://localhost:8080/"
        },
        "outputId": "746ad10e-71f1-4ce4-a9ee-3e7e1c4d1838"
      },
      "source": [
        "\n",
        "# Define what device we are using\n",
        "print(\"CUDA Available: \",torch.cuda.is_available())\n",
        "#device = torch.device(\"cuda\" if (use_cuda and torch.cuda.is_available()) else \"cpu\")\n",
        "\n",
        "# Initialize the network\n",
        "model = Net().to(device)\n",
        "\n",
        "# Load the pretrained model\n",
        "#model.load_state_dict(torch.load(pretrained_model, map_location='cpu'))\n",
        "\n",
        "# FOR TESTING/VALIDATION: Set the model in evaluation mode. In this case this is for the Dropout layers\n",
        "#model.eval()"
      ],
      "execution_count": null,
      "outputs": [
        {
          "output_type": "stream",
          "text": [
            "CUDA Available:  False\n"
          ],
          "name": "stdout"
        }
      ]
    },
    {
      "cell_type": "code",
      "metadata": {
        "id": "PcvT5gk3LTof"
      },
      "source": [
        "loss_arr = []"
      ],
      "execution_count": null,
      "outputs": []
    },
    {
      "cell_type": "code",
      "metadata": {
        "id": "JLthk7qtHvxG"
      },
      "source": [
        "import torch.optim as optim\n",
        "import torch.utils.data as data\n",
        "import torch\n",
        "import torch.nn as nn\n",
        "import torch.nn.functional as F\n",
        "import torchvision\n",
        "from torchvision import transforms, datasets\n",
        "from torch.utils.data import DataLoader\n",
        "from sklearn.utils import resample\n",
        "import random\n",
        "\n",
        "class DatasetWithPatch(data.Dataset):    \n",
        "    def __init__(self, x0_list, x1_list, y0_list, y1_list, allimages, allimagespatch, alllabels, alllabelspatch, phase, transform=None):\n",
        "        \"\"\"Data loader for Model.\"\"\"\n",
        "        super(DatasetWithPatch, self).__init__()\n",
        "        \n",
        "        #train, val, test\n",
        "        self.phase = phase\n",
        "        myimgs = []\n",
        "        all_labels = []\n",
        "        startind = 0\n",
        "        endind = 0\n",
        "        \n",
        "        print(\"startind\", startind)\n",
        "        print(\"endind\", endind)\n",
        "        #for i in range(startind,endind):\n",
        "\n",
        "        # To add images with patch: \n",
        "        for i in range(len(allimagespatch)): \n",
        "          # myimgs has 10,000 (perturbed) patch images in test mode.\n",
        "          #myimgs.append(allimages[i])\n",
        "          myimgs.append(allimagespatch[i]) # this line for adding images with patch for testing. \n",
        "          #all_labels.append(alllabels[i])\n",
        "          all_labels.append(alllabelspatch[i]) # this line for adding images with patch for testing. \n",
        "        # if (self.phase == \"train\"):\n",
        "        #   # myimgs has 20,000 (unperturbed) patch and no patch images in train mode. \n",
        "        #   for i in range(len(allimagespatch)):\n",
        "        #     myimgs.append(allimages[i]) # allimages has no patches. Just regular MNIST images. \n",
        "        #     all_labels.append(alllabels[i]) # alllabels is all zeros\n",
        "        #     x0_list.append(-1)\n",
        "        #     x1_list.append(-1)\n",
        "        #     y0_list.append(-1)\n",
        "        #     y1_list.append(-1)\n",
        "        print(\"length of myimgs\", len(myimgs))\n",
        "        print(\"length of all_labels\", len(all_labels))\n",
        "        #self.imgs = myimgs\n",
        "        #self.all_labels = all_labels\n",
        "\n",
        "        #shuffle data here\n",
        "        #group images and albels together\n",
        "        #shuffle\n",
        "        #ungroup\n",
        "        temp = list(zip(myimgs, all_labels, x0_list, x1_list, y0_list, y1_list))\n",
        "        random.shuffle(temp)\n",
        "        myimgs, all_labels, x0_list, x1_list, y0_list, y1_list = zip(*temp)\n",
        "        self.imgs = myimgs\n",
        "        self.all_labels = all_labels\n",
        "\n",
        "        self.x0list = x0_list \n",
        "        self.x1list = x1_list\n",
        "        self.y0list = y0_list\n",
        "        self.y1list = y1_list\n",
        "\n",
        "    \n",
        "    #getitem is called 'batch_size' number of times in one iteration of the epoch\n",
        "    def __getitem__(self, i):\n",
        "        img_frame = self.imgs[i] #3 stacked frames (rgb) from same patient OR same image x3    \n",
        "\n",
        "        x0 = self.x0list[i]\n",
        "        x1 = self.x1list[i]\n",
        "        y0 = self.y0list[i]\n",
        "        y1 = self.y1list[i]\n",
        "\n",
        "        #create label for image\n",
        "        label = torch.LongTensor(1)\n",
        "        #print('label type[i]: ', type(self.all_labels[i]))\n",
        "        #print('label[i]: ', self.all_labels[i])\n",
        "        #print('length of label[i]: ', len(self.all_labels[i]))\n",
        "        label[0] = int(self.all_labels[i])\n",
        "\n",
        "        input1 = torch.from_numpy(img_frame).float()            \n",
        "        return {'input': input1, 'label': label, 'x0': x0, 'x1': x1, 'y0': y0, 'y1': y1 }\n",
        "\n",
        "    def __len__(self):\n",
        "        return len(self.imgs)"
      ],
      "execution_count": null,
      "outputs": []
    },
    {
      "cell_type": "code",
      "metadata": {
        "id": "T-IXlb_lxLJX",
        "colab": {
          "base_uri": "https://localhost:8080/"
        },
        "outputId": "70fea741-e4df-4f39-90a5-f8df2c9302b9"
      },
      "source": [
        "# calls init in DatasetWithPatch\n",
        "train_set = DatasetWithPatch(x0_list, x1_list, y0_list, y1_list, allimages=allmnist, allimagespatch=allmnistpatch, \n",
        "                 alllabels=labels, alllabelspatch=labelspatch, phase=\"train\", transform=None)\n",
        "train_set_loader = DataLoader(dataset=train_set, batch_size=16, shuffle=False)\n"
      ],
      "execution_count": null,
      "outputs": [
        {
          "output_type": "stream",
          "text": [
            "startind 0\n",
            "endind 0\n",
            "length of myimgs 1\n",
            "length of all_labels 1\n"
          ],
          "name": "stdout"
        }
      ]
    },
    {
      "cell_type": "code",
      "metadata": {
        "id": "OFjLG15MIZBc"
      },
      "source": [
        "loss_arr = []"
      ],
      "execution_count": null,
      "outputs": []
    },
    {
      "cell_type": "code",
      "metadata": {
        "id": "70FwUiwUbuBm"
      },
      "source": [
        "# FGSM attack code\n",
        "def fgsm_attack(image, epsilon, data_grad, x0_i, x1_i, y0_i, y1_i):\n",
        "    #print('in fgsm. image shape:',np.shape(image))\n",
        "    # Collect the element-wise sign of the data gradient\n",
        "    sign_data_grad = data_grad#.sign()\n",
        "    #print('sign_data_grad b:', np.shape(sign_data_grad)) # [1,28,28]\n",
        "    sign_data_grad = torch.squeeze(sign_data_grad) \n",
        "    #print('sign_data_grad a:', np.shape(sign_data_grad))# [28,28]\n",
        "    #print('fgsm sign_data_grad:', sign_data_grad[0:20])\n",
        "    #print('in fgsm. epsilon*sign_data_grad shape:', np.shape(epsilon*sign_data_grad))\n",
        "    # Create the perturbed image by adjusting each pixel of the input image\n",
        "    #print('epsilon*sign_data_grad:', epsilon*sign_data_grad)\n",
        "    '''for k in range(len(sign_data_grad)):\n",
        "      for j in range(len(sign_data_grad[0])):\n",
        "        if k < x0_i or k > x1_i or j < y0_i or j > y1_i: # outside the patch\n",
        "          continue\n",
        "          #data_grad_i[k][j] = 0\n",
        "        else:\n",
        "          #print('epsilon*sign_data_grad:', epsilon*(sign_data_grad[k][j]))'''\n",
        "\n",
        "    perturbed_image = image + epsilon*sign_data_grad\n",
        "    # Adding clipping to maintain [0,1] range\n",
        "    perturbed_image = torch.clamp(perturbed_image, 0, 1)\n",
        "    # Return the perturbed image\n",
        "    return perturbed_image"
      ],
      "execution_count": null,
      "outputs": []
    },
    {
      "cell_type": "code",
      "metadata": {
        "id": "0KgzNyz-QBNu"
      },
      "source": [
        "#paste other code\n",
        "def train(model, device, train_set_loader):\n",
        "  #define criterion as crossentropy: \n",
        "  criterion = nn.CrossEntropyLoss()\n",
        "  #define optimizer as SGD, which is an optimization algorithm.\n",
        "\n",
        "  train_all_labels = []\n",
        "  train_all_probs_ones = []\n",
        "\n",
        "  #add final linear layer for 2 output classes\n",
        "  model.fc2 = nn.Linear(50, 2)\n",
        "\n",
        "  # Load trained weights\n",
        "  model.load_state_dict(torch.load(\"/content/patch_net.pth\", map_location='cpu')) # load patch_net weights\n",
        "\n",
        "  model.to(device) # must do this AFTER re-defining fc2 layer\n",
        "\n",
        "  for param in model.parameters():\n",
        "    param.requires_grad = True\n",
        "  \n",
        "  optimizer = torch.optim.SGD(model.parameters(), lr=0.001, momentum=0.9)\n",
        "  loss_arr = [] # for each epoch\n",
        "  ploss_arr = []\n",
        "\n",
        "  print(\"Printing model:\", model)\n",
        "\n",
        "  #model.train() # puts model layers in train mode. In contrast to model.eval() \n",
        "  num_epochs = 1\n",
        "  \n",
        "  model.eval() # although we are computing gradients, we are NOT updating the model by not doing the optimizer. So put the model in test mode. \n",
        "\n",
        "  for epoch in range(num_epochs): #EPOCHS. 50 OR 100 times or until validation loss starts increasing. \n",
        "    \n",
        "    running_loss = 0.0\n",
        "    prunning_loss = 0.0\n",
        "    correct = 0\n",
        "    counter = 0\n",
        "    print(\"\\nEPOCH #:\", epoch)\n",
        "    #print(\"len(train_set_loader)\", len(train_set_loader)) # 125\n",
        "    for i, data in enumerate(train_set_loader):\n",
        "      #get ur inputs and labels here\n",
        "      inputs = data['input'].to(device)\n",
        "      labels = data['label'].to(device)\n",
        "      #print('len(labels):', len(labels))\n",
        "      counter += len(inputs)\n",
        "      #if (i==0):\n",
        "        #print(\"counter should be 16:\",counter)\n",
        "      #reset gradients\n",
        "      optimizer.zero_grad() #no accumulated gradients from other batches\n",
        "      #if i % 1000 == 0:\n",
        "        #print(\"input dimensions before unsqueeze: \", inputs.size())\n",
        "      inputs = torch.unsqueeze(inputs, 1)\n",
        "      #if i % 1000 == 0:\n",
        "        #print(\"input dimensions after unsqueeze: \", inputs.size())\n",
        "      inputs.requires_grad = True\n",
        "\n",
        "      # forward + backward + optimize (to find good parameters: weights + bias)\n",
        "      outputs = model(inputs).to(device) #FEED DATA INTO MODEL\n",
        "      if (i % 100 == 0):\n",
        "        #print(\"outputs shape:\", np.shape(outputs.detach().cpu().numpy()))\n",
        "        #print(\"outputs:\", outputs.detach().cpu().numpy())\n",
        "        #print(\"labels shape before squeeze:\", np.shape(labels.cpu().numpy()))\n",
        "        labels = labels.squeeze(1) #might not need this\n",
        "        #print(\"labels shape after squeeze:\", np.shape(labels.cpu().numpy()))\n",
        "      else:\n",
        "        labels = labels.squeeze(1) #might not need this\n",
        "      \n",
        "\n",
        "      loss = criterion(outputs, labels) #calculate loss\n",
        "      loss.backward() #backpropagate loss\n",
        "      running_loss += loss.item()\n",
        "      if i % 50 == 0:    # print every 200 mini-batches\n",
        "        print(\"Running lossunperturbed:\", running_loss)\n",
        "        print('[%d, %5d] loss: %.3f' % (epoch + 1, i + 1, running_loss / (i+1)))\n",
        "#            running_loss = 0.0\n",
        "      #print('here1')\n",
        "      x0_batch = data['x0'] # x0 values for 16 images\n",
        "      x1_batch = data['x1']\n",
        "      y0_batch = data['y0']\n",
        "      y1_batch = data['y1']\n",
        "      #print('here2')\n",
        "      data_grad = inputs.grad.data # stores gradients for 16 images\n",
        "      #print('len(data_grad):', len(data_grad)) # 16\n",
        "      #print('data_grad shape:', np.shape(data_grad))\n",
        "      #print('here3')\n",
        "\n",
        "      perturbed_patch_imgs = torch.zeros(0, 28, 28)#np.zeros([0, 28, 28]) # reset every batch \n",
        "      #print('here4')\n",
        "      for z in range(len(data_grad)): \n",
        "        if (labels[z] == 1): # has patch\n",
        "          img_i = inputs[z] # type is torch tensor. fgsm attack wants a torch tensor.\n",
        "          \n",
        "          img_i = torch.squeeze(img_i)\n",
        "          plt.imshow(img_i.detach().numpy(), cmap=\"gray\") \n",
        "          x0_i = x0_batch[z]\n",
        "          x1_i = x1_batch[z]\n",
        "          y0_i = y0_batch[z]\n",
        "          y1_i = y1_batch[z]\n",
        "          data_grad_i = data_grad[z]\n",
        "          #print('img_i shape:',np.shape(img_i), np.shape(img_i[0]))\n",
        "          #print(len(img_i), len(img_i[0]))\n",
        "          '''for a in range(len(img_i)):\n",
        "            for b in range(len(img_i[0])):\n",
        "              if a < x0_i or a > x1_i or b < y0_i or b > y1_i:\n",
        "                continue\n",
        "              else:\n",
        "                print('unperturbed image pixels in patch:', img_i[a][b])'''\n",
        "\n",
        "          # keep patch gradients, zero everything else\n",
        "          #print('data_grad_i shape:',np.shape(data_grad_i))\n",
        "          for k in range(len(data_grad_i)):\n",
        "            for j in range(len(data_grad_i[0])):\n",
        "              if k < x0_i or k > x1_i or j < y0_i or j > y1_i: # outside the patch\n",
        "                #print('in here')\n",
        "                data_grad_i[k][j] = 0\n",
        "                #print(data_grad_i[k][j])\n",
        "              #else:\n",
        "                #print('pixel gradient [', k,'][', j, '] in patch:', data_grad_i[k][j])\n",
        "\n",
        "          #print('done zeroing patch gradients')\n",
        "          neg_eps_for_attack = -0.01\n",
        "          pos_epsilon_for_defense = .1\n",
        "          perturbed_patch_img_defense = fgsm_attack(img_i, pos_epsilon_for_defense, data_grad_i, x0_i, x1_i, y0_i, y1_i)\n",
        "          num_gradient_steps = 1000\n",
        "          perturbed_patch_img = img_i\n",
        "          print(np.shape(perturbed_patch_img))\n",
        "          print(type(perturbed_patch_img))\n",
        "          probabilities = []\n",
        "          for i in range(num_gradient_steps):\n",
        "            #print('here1', np.shape(perturbed_patch_img))\n",
        "            perturbed_patch_img = fgsm_attack(perturbed_patch_img, neg_eps_for_attack, data_grad_i, x0_i, x1_i, y0_i, y1_i)\n",
        "            #print('here2', np.shape(perturbed_patch_img))\n",
        "            perturbed_patch_img = torch.squeeze(perturbed_patch_img) # squeeze to get to 28 by 28\n",
        "            #print('here3', np.shape(perturbed_patch_img))\n",
        "            perturbed_patch_img = torch.unsqueeze(perturbed_patch_img, 0)\n",
        "            #print('here4', np.shape(perturbed_patch_img))\n",
        "            perturbed_patch_imgs = torch.cat((perturbed_patch_imgs, perturbed_patch_img))\n",
        "            #print('here5', np.shape(perturbed_patch_img))\n",
        "            # squeeze perturbed_patch_img again so\n",
        "            perturbed_patch_img = torch.squeeze(perturbed_patch_img)\n",
        "            perturbed_patch_imgs = torch.unsqueeze(perturbed_patch_imgs, 1)\n",
        "            #print('here6', np.shape(perturbed_patch_img))\n",
        "            poutputs = model(perturbed_patch_imgs)\n",
        "            perturbed_patch_imgs = torch.zeros(0, 28, 28)\n",
        "            sf = nn.Softmax(dim=1) #makes items in a row add to 1; dim = 0 makes items in a column add to 1\n",
        "            poutputs = sf(poutputs)\n",
        "            #print('image', i, 'softmax', poutputs.detach().cpu().numpy()) #poutputs[0], poutputs.detach().cpu().numpy()[:, 1])\n",
        "            probabilities.append(poutputs.detach().cpu().numpy()[:, 1][0])\n",
        "            #print('here7', np.shape(perturbed_patch_img))\n",
        "          print('outside')\n",
        "          perturbed_patch_img = torch.squeeze(perturbed_patch_img) # squeeze to get to 28 by 28\n",
        "          #print('here1')\n",
        "          #if (i % 50 == 0):\n",
        "          #print(x0_i, x1_i, y0_i, y1_i)\n",
        "          '''for a in range(len(perturbed_patch_img)):\n",
        "            #print('here1')\n",
        "            for b in range(len(perturbed_patch_img[0])):\n",
        "              #print('here2')\n",
        "              if a < x0_i or a > x1_i or b < y0_i or b > y1_i: # outside patch\n",
        "                #print('here3')\n",
        "                #print('in here')\n",
        "                print('image pixels outside patch:[',a,'][',b,']',perturbed_patch_img[a][b])\n",
        "                #continue\n",
        "             # else:\n",
        "                #print('perturbed_patch_img shape:',np.shape(perturbed_patch_img), np.shape(perturbed_patch_img[0]))\n",
        "                #print('image pixels in patch:[',a,'][',b,']',perturbed_patch_img[a][b])\n",
        "          '''\n",
        "          perturbed_patch_img = torch.unsqueeze(perturbed_patch_img, 0) # back to [1,28,28]\n",
        "          perturbed_patch_imgs = torch.cat((perturbed_patch_imgs, perturbed_patch_img))#.append(perturbed_patch_img)\n",
        "          \n",
        "          #if(i%100==0):\n",
        "           # print(np.shape(perturbed_patch_imgs))\n",
        "      \n",
        "      '''for z in range(len(data_grad)):\n",
        "        #if (labels[z] == 1): # has patch\n",
        "          img_i = inputs[z] # type is torch tensor. fgsm attack wants a torch tensor.\n",
        "          perturbed_patch_imgs = torch.cat((perturbed_patch_imgs, img_i))#.append(perturbed_patch_img)\n",
        "      '''\n",
        "      #print('here5')\n",
        "      perturbed_patch_imgs = torch.unsqueeze(perturbed_patch_imgs, 1) # to [batch_size,1,28,28]\n",
        "      #print('perturbed_patch_imgs:', np.shape(perturbed_patch_imgs), len(perturbed_patch_imgs))\n",
        "      #perturbed_patch_imgs = torch.unsqueeze(perturbed_patch_imgs, 1)\n",
        "      #print('here6')\n",
        "      poutputs = model(perturbed_patch_imgs)#inputs) # just inputs instead of perturbed_patch_imgs will be just unperturbed, patch and no patch images. #perturbed_patch_imgs) \n",
        "      #print('poutputs:', np.shape(poutputs), len(poutputs))\n",
        "      #print('here7')\n",
        "      #print('len(perturbed_patch_imgs):', len(perturbed_patch_imgs))\n",
        "      #print(len(perturbed_patch_imgs))\n",
        "\n",
        "      plabels = torch.ones((len(perturbed_patch_imgs))).long() #labels[:len(perturbed_patch_imgs)]\n",
        "      #print('plabels:', np.shape(plabels), len(plabels))\n",
        "      #print(len(perturbed_patch_imgs))\n",
        "      #print('here8')\n",
        "      #print(len(poutputs), len(plabels))\n",
        "      ploss = criterion(poutputs, plabels) #calculate loss\n",
        "      #print('here9')\n",
        "      prunning_loss += ploss.item()\n",
        "      #print('here10')\n",
        "      if i % 50 == 0:    # print every 200 mini-batches\n",
        "        print(\"Running loss Perturbed:\", prunning_loss)\n",
        "        print('[%d, %5d] loss: %.3f' % (epoch + 1, i + 1, prunning_loss / (i+1)))\n",
        "        print('poutputs[0]', poutputs[0])    \n",
        "\n",
        "      #apply sigmoid or softmax\n",
        "      sf = nn.Softmax(dim=1) #makes items in a row add to 1; dim = 0 makes items in a column add to 1\n",
        "      poutputs = sf(poutputs)\n",
        "      print('softmax', poutputs[0])\n",
        "\n",
        "      #if i % 500 == 0:\n",
        "        #print(\"len poutputs\", np.shape(poutputs), \"poutputs[0]:\", poutputs[0]) # length of outputs is batch_size (16) by # of classes (2).\n",
        "      \n",
        "      # Get predictions from the maximum value\n",
        "      _, predicted = torch.max(poutputs, 1)\n",
        "\n",
        "      # #add labels + predictions to full set for auroc later\n",
        "      if torch.cuda.is_available():\n",
        "          outs_ones = poutputs.detach().cpu().numpy()[:, 1]\n",
        "          plabelsnp = plabels.cpu().numpy()\n",
        "          correct += (predicted.cpu() == plabels.cpu()).sum()\n",
        "      else:\n",
        "          outs_ones = poutputs.detach().numpy()[:, 1]\n",
        "          plabelsnp = plabels.numpy()\n",
        "          correct += (predicted == plabels).sum()\n",
        "\n",
        "      # counter += len(predicted.cpu())\n",
        "\n",
        "      accuracy = 100 * correct // counter\n",
        "      if (i % 100 == 0):\n",
        "        print(\"accuracy for iteration {} = {} %. {} correct out of count {}\".format(i, accuracy, correct, counter))\n",
        "      \n",
        "    PATH = '/content/patch_net_adv.pth'\n",
        "    torch.save(model.state_dict(), PATH)\n",
        "    ploss_arr.append( prunning_loss / len(train_set_loader))\n",
        "  # plot loss\n",
        "  plt.figure(figsize=(5,5))\n",
        "  # plt.plot(ploss_arr)\n",
        "  plt.plot(probabilities)\n",
        "  plt.plot()\n",
        "  # plt.yticks(np.arange(0, 1.1, step=0.1))\n",
        "  # plt.xticks(np.arange(0, .5, step=0.1))\n",
        "  plt.title(\"Probability of patch for {} gradient steps and pos epsilon = {} and neg eps = {}\".format(num_gradient_steps, pos_epsilon_for_defense, neg_eps_for_attack))\n",
        "  plt.xlabel(\"Gradient step\")\n",
        "  plt.ylabel(\"Softmax probability of 1 (has patch)\")\n",
        "  # plt.show()\n",
        "  return perturbed_patch_imgs"
      ],
      "execution_count": null,
      "outputs": []
    },
    {
      "cell_type": "code",
      "metadata": {
        "id": "mlaGuGRPxOK7",
        "colab": {
          "base_uri": "https://localhost:8080/",
          "height": 975
        },
        "outputId": "cf2719a2-f431-4ef4-de24-e175e72fb3ee"
      },
      "source": [
        "print()\n",
        "perturbed_patch_imgs = train(model, device, train_set_loader)"
      ],
      "execution_count": null,
      "outputs": [
        {
          "output_type": "stream",
          "text": [
            "\n",
            "Printing model: Net(\n",
            "  (conv1): Conv2d(1, 10, kernel_size=(5, 5), stride=(1, 1))\n",
            "  (conv2): Conv2d(10, 20, kernel_size=(5, 5), stride=(1, 1))\n",
            "  (conv2_drop): Dropout2d(p=0.5, inplace=False)\n",
            "  (fc1): Linear(in_features=320, out_features=50, bias=True)\n",
            "  (fc2): Linear(in_features=50, out_features=2, bias=True)\n",
            ")\n",
            "\n",
            "EPOCH #: 0\n",
            "Running lossunperturbed: 0.5461991429328918\n",
            "[1,     1] loss: 0.546\n",
            "torch.Size([28, 28])\n",
            "<class 'torch.Tensor'>\n"
          ],
          "name": "stdout"
        },
        {
          "output_type": "stream",
          "text": [
            "/usr/local/lib/python3.7/dist-packages/torch/nn/functional.py:718: UserWarning: Named tensors and all their associated APIs are an experimental feature and subject to change. Please do not use them for anything important until they are released as stable. (Triggered internally at  /pytorch/c10/core/TensorImpl.h:1156.)\n",
            "  return torch.max_pool2d(input, kernel_size, stride, padding, dilation, ceil_mode)\n"
          ],
          "name": "stderr"
        },
        {
          "output_type": "stream",
          "text": [
            "outside\n",
            "softmax tensor([0.4209, 0.5791], grad_fn=<SelectBackward>)\n"
          ],
          "name": "stdout"
        },
        {
          "output_type": "stream",
          "text": [
            "/usr/local/lib/python3.7/dist-packages/torch/_tensor.py:575: UserWarning: floor_divide is deprecated, and will be removed in a future version of pytorch. It currently rounds toward 0 (like the 'trunc' function NOT 'floor'). This results in incorrect rounding for negative values.\n",
            "To keep the current behavior, use torch.div(a, b, rounding_mode='trunc'), or for actual floor division, use torch.div(a, b, rounding_mode='floor'). (Triggered internally at  /pytorch/aten/src/ATen/native/BinaryOps.cpp:467.)\n",
            "  return torch.floor_divide(self, other)\n"
          ],
          "name": "stderr"
        },
        {
          "output_type": "display_data",
          "data": {
            "image/png": "[encoded data removed]",
            "text/plain": [
              "<Figure size 432x288 with 1 Axes>"
            ]
          },
          "metadata": {
            "tags": [],
            "needs_background": "light"
          }
        },
        {
          "output_type": "display_data",
          "data": {
            "image/png": "[encoded data removed]",
            "text/plain": [
              "<Figure size 360x360 with 1 Axes>"
            ]
          },
          "metadata": {
            "tags": [],
            "needs_background": "light"
          }
        }
      ]
    },
    {
      "cell_type": "code",
      "metadata": {
        "id": "D4UJeJNsjvLZ"
      },
      "source": [
        "perturbed_patch_imgs = perturbed_patch_imgs.detach().numpy()"
      ],
      "execution_count": null,
      "outputs": []
    }
  ]
}